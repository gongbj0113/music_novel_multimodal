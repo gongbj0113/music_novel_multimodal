{
 "cells": [
  {
   "cell_type": "code",
   "execution_count": 5,
   "metadata": {},
   "outputs": [],
   "source": [
    "TEXT_DATA_PATH = 'text_data.csv'\n",
    "\n",
    "import pandas as pd\n",
    "pd.read_csv(TEXT_DATA_PATH)\n",
    "\n",
    "# filter less than 10 length and save\n",
    "df = pd.read_csv(TEXT_DATA_PATH)\n",
    "df = df[df['Text'].str.len() > 10]\n",
    "df.to_csv('text_data_filtered.csv', index=False)\n",
    "\n",
    "\n"
   ]
  }
 ],
 "metadata": {
  "kernelspec": {
   "display_name": "test",
   "language": "python",
   "name": "python3"
  },
  "language_info": {
   "codemirror_mode": {
    "name": "ipython",
    "version": 3
   },
   "file_extension": ".py",
   "mimetype": "text/x-python",
   "name": "python",
   "nbconvert_exporter": "python",
   "pygments_lexer": "ipython3",
   "version": "3.8.18"
  }
 },
 "nbformat": 4,
 "nbformat_minor": 2
}
